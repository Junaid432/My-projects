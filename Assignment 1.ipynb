{
 "cells": [
  {
   "cell_type": "markdown",
   "id": "7aa7b60b",
   "metadata": {},
   "source": [
    "# Q#1"
   ]
  },
  {
   "cell_type": "code",
   "execution_count": 31,
   "id": "f330c40d",
   "metadata": {},
   "outputs": [
    {
     "name": "stdout",
     "output_type": "stream",
     "text": [
      "Twinkle, twinkle, little star,\n",
      "              How I winder what you are!\n",
      "                       Up above the world so high,\n",
      "                        Like a diamond in the sky.\n",
      "Twinkle, twinkle, little star,\n",
      "               How I winder what you are\n"
     ]
    }
   ],
   "source": [
    "print (f\"{'Twinkle, twinkle, little star,':<30}\")\n",
    "print (f\"{'How I winder what you are!':>40}\")\n",
    "print (f\"{'Up above the world so high,':>50}\")\n",
    "print (f\"{'Like a diamond in the sky.':>50}\")\n",
    "print (f\"{'Twinkle, twinkle, little star,':<30}\")\n",
    "print (f\"{'How I winder what you are':>40}\")"
   ]
  },
  {
   "cell_type": "markdown",
   "id": "7305cfca",
   "metadata": {},
   "source": [
    "# Q # 2"
   ]
  },
  {
   "cell_type": "code",
   "execution_count": null,
   "id": "82387c98",
   "metadata": {},
   "outputs": [],
   "source": [
    "import sys"
   ]
  },
  {
   "cell_type": "code",
   "execution_count": 5,
   "id": "cbca2580",
   "metadata": {},
   "outputs": [
    {
     "name": "stdout",
     "output_type": "stream",
     "text": [
      "Python version\n",
      "3.7.11 (default, Jul 27 2021, 09:42:29) [MSC v.1916 64 bit (AMD64)]\n"
     ]
    }
   ],
   "source": [
    "print(\"Python version\")\n",
    "print (sys.version)"
   ]
  },
  {
   "cell_type": "markdown",
   "id": "dfa2d6a1",
   "metadata": {},
   "source": [
    "# Q # 3"
   ]
  },
  {
   "cell_type": "code",
   "execution_count": 6,
   "id": "05a4cdaf",
   "metadata": {},
   "outputs": [],
   "source": [
    "import datetime\n"
   ]
  },
  {
   "cell_type": "code",
   "execution_count": 8,
   "id": "803fef55",
   "metadata": {},
   "outputs": [
    {
     "name": "stdout",
     "output_type": "stream",
     "text": [
      "Current date and time : \n",
      "2022-01-01 20:22:28\n"
     ]
    }
   ],
   "source": [
    "time = datetime.datetime.now()\n",
    "print (\"Current date and time : \")\n",
    "print (time.strftime(\"%Y-%m-%d %H:%M:%S\"))\n"
   ]
  },
  {
   "cell_type": "markdown",
   "id": "bd91bc21",
   "metadata": {},
   "source": [
    "# Q#4 "
   ]
  },
  {
   "cell_type": "code",
   "execution_count": 18,
   "id": "39a9fd5f",
   "metadata": {},
   "outputs": [
    {
     "name": "stdout",
     "output_type": "stream",
     "text": [
      "Enter the radius of a circle:5\n",
      "Area of a circle = 78.50\n"
     ]
    }
   ],
   "source": [
    "PI = 3.14\n",
    "\n",
    "r = int(input(\"Enter the radius of a circle:\"))\n",
    "area = PI * r * r\n",
    "print(\"Area of a circle = %.2f\" %area)"
   ]
  },
  {
   "cell_type": "markdown",
   "id": "51409f22",
   "metadata": {},
   "source": [
    "# Q #5"
   ]
  },
  {
   "cell_type": "code",
   "execution_count": 19,
   "id": "0afd3da5",
   "metadata": {},
   "outputs": [
    {
     "name": "stdout",
     "output_type": "stream",
     "text": [
      "Input your First Name : junaid\n",
      "Input your Last Name : yousaf\n",
      "Hello  yousaf junaid\n"
     ]
    }
   ],
   "source": [
    "f_name = input(\"Input your First Name : \")\n",
    "l_name = input(\"Input your Last Name : \")\n",
    "print (\"Hello  \" + l_name + \" \" + f_name)"
   ]
  },
  {
   "cell_type": "markdown",
   "id": "f3aec7d4",
   "metadata": {},
   "source": [
    "# Q#6"
   ]
  },
  {
   "cell_type": "code",
   "execution_count": 28,
   "id": "3b68472f",
   "metadata": {},
   "outputs": [
    {
     "name": "stdout",
     "output_type": "stream",
     "text": [
      "Enter ist number87\n",
      "enter second number2\n",
      "sumof two number is: 89\n"
     ]
    }
   ],
   "source": [
    "a=int(input('Enter ist number'))\n",
    "b=int(input(\"enter second number\"))\n",
    "sum = a + b\n",
    "print(\"sumof two number is:\", sum)"
   ]
  },
  {
   "cell_type": "code",
   "execution_count": null,
   "id": "05e110b5",
   "metadata": {},
   "outputs": [],
   "source": []
  },
  {
   "cell_type": "code",
   "execution_count": null,
   "id": "8cb1a70a",
   "metadata": {},
   "outputs": [],
   "source": []
  }
 ],
 "metadata": {
  "kernelspec": {
   "display_name": "Python 3",
   "language": "python",
   "name": "python3"
  },
  "language_info": {
   "codemirror_mode": {
    "name": "ipython",
    "version": 3
   },
   "file_extension": ".py",
   "mimetype": "text/x-python",
   "name": "python",
   "nbconvert_exporter": "python",
   "pygments_lexer": "ipython3",
   "version": "3.7.11"
  }
 },
 "nbformat": 4,
 "nbformat_minor": 5
}
